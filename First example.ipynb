{
 "cells": [
  {
   "cell_type": "markdown",
   "id": "217c18a7",
   "metadata": {},
   "source": [
    "https://github.com/adam-p/markdown-here/wiki/Markdown-Cheatsheet#emphasis"
   ]
  },
  {
   "cell_type": "markdown",
   "id": "7fba8089",
   "metadata": {},
   "source": [
    "# The above Html link for styling & formating of written text "
   ]
  },
  {
   "cell_type": "markdown",
   "id": "7dca97a7",
   "metadata": {},
   "source": [
    "**Example:**"
   ]
  },
  {
   "cell_type": "markdown",
   "id": "e81fcac5",
   "metadata": {},
   "source": [
    "Emphasis, aka italics, with *asterisks* or _underscores_."
   ]
  },
  {
   "cell_type": "markdown",
   "id": "64bcb3bf",
   "metadata": {},
   "source": [
    "Strong emphasis, aka bold, with **asterisks** or __underscores__."
   ]
  },
  {
   "cell_type": "markdown",
   "id": "3e0d367a",
   "metadata": {},
   "source": [
    "Combined emphasis with **asterisks and _underscores_**."
   ]
  },
  {
   "cell_type": "markdown",
   "id": "25f369bf",
   "metadata": {},
   "source": [
    "Strikethrough uses two tildes. ~~Scratch this.~~"
   ]
  },
  {
   "cell_type": "markdown",
   "id": "566467c4",
   "metadata": {},
   "source": [
    "## Create a Line Plot"
   ]
  },
  {
   "cell_type": "markdown",
   "id": "435772cf",
   "metadata": {},
   "source": [
    "This is about how line is plot"
   ]
  },
  {
   "cell_type": "markdown",
   "id": "125d35fa",
   "metadata": {},
   "source": [
    "    1.The error occured when the value of a , b array size is different"
   ]
  },
  {
   "cell_type": "markdown",
   "id": "07c35f4c",
   "metadata": {},
   "source": [
    "    2.To remove array we need to assign the same ranges for a,b "
   ]
  },
  {
   "cell_type": "code",
   "execution_count": 14,
   "id": "4f913f2a",
   "metadata": {
    "scrolled": true
   },
   "outputs": [],
   "source": [
    "a=[2,4,6,8,9]\n",
    "b=[-1,-2,-3,-4,-5]"
   ]
  },
  {
   "cell_type": "code",
   "execution_count": 15,
   "id": "abd56d57",
   "metadata": {},
   "outputs": [],
   "source": [
    "import matplotlib.pyplot as plt"
   ]
  },
  {
   "cell_type": "code",
   "execution_count": 16,
   "id": "a6647604",
   "metadata": {},
   "outputs": [
    {
     "data": {
      "image/png": "[encoded data removed]",
      "text/plain": [
       "<Figure size 432x288 with 1 Axes>"
      ]
     },
     "metadata": {
      "needs_background": "light"
     },
     "output_type": "display_data"
    }
   ],
   "source": [
    "plt.plot(a,b)\n",
    "plt.show()"
   ]
  },
  {
   "cell_type": "code",
   "execution_count": null,
   "id": "cc9fc718",
   "metadata": {},
   "outputs": [],
   "source": []
  }
 ],
 "metadata": {
  "kernelspec": {
   "display_name": "Python 3 (ipykernel)",
   "language": "python",
   "name": "python3"
  },
  "language_info": {
   "codemirror_mode": {
    "name": "ipython",
    "version": 3
   },
   "file_extension": ".py",
   "mimetype": "text/x-python",
   "name": "python",
   "nbconvert_exporter": "python",
   "pygments_lexer": "ipython3",
   "version": "3.9.12"
  }
 },
 "nbformat": 4,
 "nbformat_minor": 5
}
